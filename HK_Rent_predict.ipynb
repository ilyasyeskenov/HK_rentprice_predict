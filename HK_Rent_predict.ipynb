{
 "cells": [
  {
   "cell_type": "code",
   "execution_count": 2,
   "id": "02295b40",
   "metadata": {},
   "outputs": [],
   "source": [
    "import requests\n",
    "from bs4 import BeautifulSoup\n",
    "import pandas as pd\n",
    "import re\n",
    "import numpy as np\n",
    "import matplotlib.pyplot as plt\n",
    "from sklearn.linear_model import LinearRegression\n",
    "\n"
   ]
  },
  {
   "cell_type": "markdown",
   "id": "243ef83c",
   "metadata": {},
   "source": [
    "# Parsing data"
   ]
  },
  {
   "cell_type": "code",
   "execution_count": 3,
   "id": "f682db28",
   "metadata": {},
   "outputs": [],
   "source": [
    "all_sa = list()\n",
    "all_prices = list()\n",
    "\n",
    "for j in range(1,120):\n",
    "    url ='https://www.proway.com.hk/en/property-search/for-rent/house-in-hong-kong?order=prd&page='+str(j)\n",
    "    page = requests.get(url)\n",
    "    soup = BeautifulSoup(page.content, 'html.parser')\n",
    "    \n",
    "    data = soup.find_all('p',class_ = \"card-text\")\n",
    "    pricelist = soup.find_all('span',class_ = \"price-in-hkd\")\n",
    "    \n",
    "\n",
    "    for i in range(len(data)):\n",
    "\n",
    "        data_str = str(data[i]).replace(\" \", \"\").replace(\"\\n\",\"\").replace(\",\",\"\")\n",
    "        data_num = data_str.split(\"br\")\n",
    "\n",
    "\n",
    "        if len(data_num)==5:\n",
    "\n",
    "            sale_area = int(re.findall(r'\\d+', data_num[2])[0])\n",
    "\n",
    "\n",
    "        elif len(data_num)==6:\n",
    "            \n",
    "            sale_area = int(re.findall(r'\\d+', data_num[1])[0])\n",
    "\n",
    "        all_sa.append(sale_area)\n",
    "        \n",
    "\n",
    "    for i in range(len(pricelist)):\n",
    "\n",
    "        price_str = str(pricelist[i]).split('>')[1].split('<')[0].replace(',','')\n",
    "        \n",
    "        if len(price_str)<7:\n",
    "            all_prices.append(int(price_str))"
   ]
  },
  {
   "cell_type": "code",
   "execution_count": 17,
   "id": "56c9ad72",
   "metadata": {},
   "outputs": [],
   "source": [
    "dic = dict()\n",
    "dic[\"Saleable_area\"] = all_sa[1:]\n",
    "dic['Rental_Prices'] = all_prices[1:-3]"
   ]
  },
  {
   "cell_type": "code",
   "execution_count": 52,
   "id": "66e338d3",
   "metadata": {},
   "outputs": [
    {
     "data": {
      "text/html": [
       "<div>\n",
       "<style scoped>\n",
       "    .dataframe tbody tr th:only-of-type {\n",
       "        vertical-align: middle;\n",
       "    }\n",
       "\n",
       "    .dataframe tbody tr th {\n",
       "        vertical-align: top;\n",
       "    }\n",
       "\n",
       "    .dataframe thead th {\n",
       "        text-align: right;\n",
       "    }\n",
       "</style>\n",
       "<table border=\"1\" class=\"dataframe\">\n",
       "  <thead>\n",
       "    <tr style=\"text-align: right;\">\n",
       "      <th></th>\n",
       "      <th>Saleable_area</th>\n",
       "      <th>Rental_Prices</th>\n",
       "    </tr>\n",
       "  </thead>\n",
       "  <tbody>\n",
       "    <tr>\n",
       "      <th>count</th>\n",
       "      <td>2138.000000</td>\n",
       "      <td>2138.000000</td>\n",
       "    </tr>\n",
       "    <tr>\n",
       "      <th>mean</th>\n",
       "      <td>1087.391020</td>\n",
       "      <td>57045.995790</td>\n",
       "    </tr>\n",
       "    <tr>\n",
       "      <th>std</th>\n",
       "      <td>681.959408</td>\n",
       "      <td>42255.351236</td>\n",
       "    </tr>\n",
       "    <tr>\n",
       "      <th>min</th>\n",
       "      <td>213.000000</td>\n",
       "      <td>21000.000000</td>\n",
       "    </tr>\n",
       "    <tr>\n",
       "      <th>25%</th>\n",
       "      <td>600.000000</td>\n",
       "      <td>31000.000000</td>\n",
       "    </tr>\n",
       "    <tr>\n",
       "      <th>50%</th>\n",
       "      <td>863.500000</td>\n",
       "      <td>44000.000000</td>\n",
       "    </tr>\n",
       "    <tr>\n",
       "      <th>75%</th>\n",
       "      <td>1385.000000</td>\n",
       "      <td>68000.000000</td>\n",
       "    </tr>\n",
       "    <tr>\n",
       "      <th>max</th>\n",
       "      <td>5134.000000</td>\n",
       "      <td>450000.000000</td>\n",
       "    </tr>\n",
       "  </tbody>\n",
       "</table>\n",
       "</div>"
      ],
      "text/plain": [
       "       Saleable_area  Rental_Prices\n",
       "count    2138.000000    2138.000000\n",
       "mean     1087.391020   57045.995790\n",
       "std       681.959408   42255.351236\n",
       "min       213.000000   21000.000000\n",
       "25%       600.000000   31000.000000\n",
       "50%       863.500000   44000.000000\n",
       "75%      1385.000000   68000.000000\n",
       "max      5134.000000  450000.000000"
      ]
     },
     "execution_count": 52,
     "metadata": {},
     "output_type": "execute_result"
    }
   ],
   "source": [
    "datas = pd.DataFrame(dic)\n",
    "datas = datas.drop([905,1035,1064])\n",
    "datas.describe()"
   ]
  },
  {
   "cell_type": "code",
   "execution_count": 53,
   "id": "0ac2f762",
   "metadata": {},
   "outputs": [
    {
     "data": {
      "text/html": [
       "<div>\n",
       "<style scoped>\n",
       "    .dataframe tbody tr th:only-of-type {\n",
       "        vertical-align: middle;\n",
       "    }\n",
       "\n",
       "    .dataframe tbody tr th {\n",
       "        vertical-align: top;\n",
       "    }\n",
       "\n",
       "    .dataframe thead th {\n",
       "        text-align: right;\n",
       "    }\n",
       "</style>\n",
       "<table border=\"1\" class=\"dataframe\">\n",
       "  <thead>\n",
       "    <tr style=\"text-align: right;\">\n",
       "      <th></th>\n",
       "      <th>Saleable_area</th>\n",
       "      <th>Rental_Prices</th>\n",
       "    </tr>\n",
       "  </thead>\n",
       "  <tbody>\n",
       "    <tr>\n",
       "      <th>0</th>\n",
       "      <td>5134</td>\n",
       "      <td>450000</td>\n",
       "    </tr>\n",
       "    <tr>\n",
       "      <th>1</th>\n",
       "      <td>3871</td>\n",
       "      <td>420000</td>\n",
       "    </tr>\n",
       "    <tr>\n",
       "      <th>2</th>\n",
       "      <td>3934</td>\n",
       "      <td>380000</td>\n",
       "    </tr>\n",
       "    <tr>\n",
       "      <th>3</th>\n",
       "      <td>4542</td>\n",
       "      <td>360000</td>\n",
       "    </tr>\n",
       "    <tr>\n",
       "      <th>4</th>\n",
       "      <td>2704</td>\n",
       "      <td>350000</td>\n",
       "    </tr>\n",
       "    <tr>\n",
       "      <th>...</th>\n",
       "      <td>...</td>\n",
       "      <td>...</td>\n",
       "    </tr>\n",
       "    <tr>\n",
       "      <th>2136</th>\n",
       "      <td>424</td>\n",
       "      <td>21000</td>\n",
       "    </tr>\n",
       "    <tr>\n",
       "      <th>2137</th>\n",
       "      <td>397</td>\n",
       "      <td>21000</td>\n",
       "    </tr>\n",
       "    <tr>\n",
       "      <th>2138</th>\n",
       "      <td>440</td>\n",
       "      <td>21000</td>\n",
       "    </tr>\n",
       "    <tr>\n",
       "      <th>2139</th>\n",
       "      <td>296</td>\n",
       "      <td>21000</td>\n",
       "    </tr>\n",
       "    <tr>\n",
       "      <th>2140</th>\n",
       "      <td>409</td>\n",
       "      <td>21000</td>\n",
       "    </tr>\n",
       "  </tbody>\n",
       "</table>\n",
       "<p>2138 rows × 2 columns</p>\n",
       "</div>"
      ],
      "text/plain": [
       "      Saleable_area  Rental_Prices\n",
       "0              5134         450000\n",
       "1              3871         420000\n",
       "2              3934         380000\n",
       "3              4542         360000\n",
       "4              2704         350000\n",
       "...             ...            ...\n",
       "2136            424          21000\n",
       "2137            397          21000\n",
       "2138            440          21000\n",
       "2139            296          21000\n",
       "2140            409          21000\n",
       "\n",
       "[2138 rows x 2 columns]"
      ]
     },
     "execution_count": 53,
     "metadata": {},
     "output_type": "execute_result"
    }
   ],
   "source": [
    "datas"
   ]
  },
  {
   "cell_type": "markdown",
   "id": "189e0e1d",
   "metadata": {},
   "source": [
    "# Creating regression model"
   ]
  },
  {
   "cell_type": "code",
   "execution_count": 54,
   "id": "a71e8c2a",
   "metadata": {},
   "outputs": [
    {
     "data": {
      "text/plain": [
       "LinearRegression()"
      ]
     },
     "execution_count": 54,
     "metadata": {},
     "output_type": "execute_result"
    }
   ],
   "source": [
    "X = datas[['Saleable_area']]\n",
    "y = datas[['Rental_Prices']]\n",
    "\n",
    "regressor = LinearRegression(fit_intercept =True)\n",
    "\n",
    "regressor.fit(X, y)\n",
    "\n",
    "\n"
   ]
  },
  {
   "cell_type": "code",
   "execution_count": 58,
   "id": "09029168",
   "metadata": {},
   "outputs": [
    {
     "data": {
      "image/png": "[encoded data removed]",
      "text/plain": [
       "<Figure size 720x576 with 1 Axes>"
      ]
     },
     "metadata": {
      "needs_background": "light"
     },
     "output_type": "display_data"
    }
   ],
   "source": [
    "from matplotlib.pyplot import figure\n",
    "\n",
    "figure(figsize=(10, 8))\n",
    "\n",
    "plt.scatter(X, y, color = 'blue')\n",
    "plt.plot(X, regressor.predict(X) , color = 'red')\n",
    "\n",
    "plt.xlabel('Saleable area(s.f)')\n",
    "plt.ylabel('Rental price(HKD)')\n",
    "plt.show()"
   ]
  },
  {
   "cell_type": "code",
   "execution_count": 56,
   "id": "e15c6905",
   "metadata": {},
   "outputs": [
    {
     "data": {
      "text/plain": [
       "0.8016704020477916"
      ]
     },
     "execution_count": 56,
     "metadata": {},
     "output_type": "execute_result"
    }
   ],
   "source": [
    "regressor.score(X,y)"
   ]
  },
  {
   "cell_type": "code",
   "execution_count": 57,
   "id": "19e54954",
   "metadata": {},
   "outputs": [
    {
     "data": {
      "text/plain": [
       "array([[24458.69282781]])"
      ]
     },
     "execution_count": 57,
     "metadata": {},
     "output_type": "execute_result"
    }
   ],
   "source": [
    "regressor.predict([[500]])"
   ]
  },
  {
   "cell_type": "code",
   "execution_count": null,
   "id": "18bd8834",
   "metadata": {},
   "outputs": [],
   "source": []
  }
 ],
 "metadata": {
  "kernelspec": {
   "display_name": "Python 3",
   "language": "python",
   "name": "python3"
  },
  "language_info": {
   "codemirror_mode": {
    "name": "ipython",
    "version": 3
   },
   "file_extension": ".py",
   "mimetype": "text/x-python",
   "name": "python",
   "nbconvert_exporter": "python",
   "pygments_lexer": "ipython3",
   "version": "3.8.8"
  }
 },
 "nbformat": 4,
 "nbformat_minor": 5
}
